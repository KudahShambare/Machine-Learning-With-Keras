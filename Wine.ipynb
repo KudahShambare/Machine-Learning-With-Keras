
#import modules
import keras
from keras import layers
from keras.layers import Dense
from keras.utils import plot_model
from keras.utils import to_categorical
from sklearn.datasets import load_wine
from sklearn.model_selection import train_test_split
