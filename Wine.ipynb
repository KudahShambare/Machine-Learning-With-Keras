{
  "nbformat": 4,
  "nbformat_minor": 0,
  "metadata": {
    "colab": {
      "provenance": []
    },
    "kernelspec": {
      "name": "python3",
      "display_name": "Python 3"
    },
    "language_info": {
      "name": "python"
    }
  },
  "cells": [
    {
      "cell_type": "code",
      "execution_count": 26,
      "metadata": {
        "id": "KRAStlen3WD6"
      },
      "outputs": [],
      "source": [
        "#import modules\n",
        "import keras\n",
        "from keras import layers\n",
        "from keras.layers import Dense\n",
        "from keras.utils import plot_model\n",
        "from keras.utils import to_categorical\n",
        "from sklearn.datasets import load_wine\n",
        "from sklearn.model_selection import train_test_split"
      ]
    },
    {
      "cell_type": "markdown",
      "source": [
        "**This is my first experiment of building a neural network using Keras**"
      ],
      "metadata": {
        "id": "FHjBWukL3c_S"
      }
    },
    {
      "cell_type": "code",
      "source": [
        "\n",
        "# Load the wine dataset\n",
        "wineData = load_wine(as_frame=True)\n",
        "\n",
        "# Extract features (X) and target variable (y)\n",
        "X = wineData.data\n",
        "y = wineData.target\n",
        "\n",
        "# Split the dataset into training and testing sets\n",
        "X_train, X_test, y_train, y_test = train_test_split(X, y, test_size=0.2, random_state=42)\n",
        "#encode output to fit the shape of the output layer\n",
        "y_train_encoded = to_categorical(y_train, num_classes=3)\n",
        "y_test_encoded = to_categorical(y_test,num_classes=3)\n",
        "\n"
      ],
      "metadata": {
        "id": "HX_Dfu4k3suO"
      },
      "execution_count": 32,
      "outputs": []
    },
    {
      "cell_type": "code",
      "source": [
        "print(y_train_encoded.shape)"
      ],
      "metadata": {
        "colab": {
          "base_uri": "https://localhost:8080/"
        },
        "id": "5aA5JnPgaL7C",
        "outputId": "b4d1f901-86f9-4b2f-9019-5ec22487e747"
      },
      "execution_count": 31,
      "outputs": [
        {
          "output_type": "stream",
          "name": "stdout",
          "text": [
            "(142, 3)\n"
          ]
        }
      ]
    },
    {
      "cell_type": "code",
      "source": [
        "# Kerras Sequential model\n",
        "\n",
        "model = keras.Sequential()\n",
        "model.add(Dense(32, input_dim=13, activation='relu', name=\"H1\" ))\n",
        "model.add(Dense(24, activation='relu', name=\"H2\"))\n",
        "model.add(Dense(3, activation='softmax'))\n",
        "\n"
      ],
      "metadata": {
        "id": "wRHfS2ha5L6w"
      },
      "execution_count": 40,
      "outputs": []
    },
    {
      "cell_type": "code",
      "source": [
        "#Visualize the network\n",
        "\n",
        "plot_model(model, to_file='model_plot.png', show_shapes=True, show_layer_names=True)"
      ],
      "metadata": {
        "id": "0M9ZMeEoUQQ0"
      },
      "execution_count": null,
      "outputs": []
    },
    {
      "cell_type": "code",
      "source": [
        "#train model\n",
        "\n",
        "model.compile(\n",
        "      optimizer=keras.optimizers.Adam(),\n",
        "        loss=keras.losses.CategoricalCrossentropy(),\n",
        "      metrics=[keras.metrics.CategoricalAccuracy()]\n",
        "      )\n",
        "model.fit(X_train, y_train_encoded, batch_size=64, validation_split=0.2, epochs=100)\n"
      ],
      "metadata": {
        "colab": {
          "base_uri": "https://localhost:8080/"
        },
        "id": "qFqlavVPUVS-",
        "outputId": "9f8b7336-9f3e-4240-d8d1-9cc3b37005cd"
      },
      "execution_count": 41,
      "outputs": [
        {
          "output_type": "stream",
          "name": "stdout",
          "text": [
            "Epoch 1/100\n",
            "2/2 [==============================] - 1s 244ms/step - loss: 185.2054 - categorical_accuracy: 0.3982 - val_loss: 174.9053 - val_categorical_accuracy: 0.4138\n",
            "Epoch 2/100\n",
            "2/2 [==============================] - 0s 52ms/step - loss: 166.4314 - categorical_accuracy: 0.3982 - val_loss: 155.4030 - val_categorical_accuracy: 0.4138\n",
            "Epoch 3/100\n",
            "2/2 [==============================] - 0s 31ms/step - loss: 148.0751 - categorical_accuracy: 0.3982 - val_loss: 136.0685 - val_categorical_accuracy: 0.4138\n",
            "Epoch 4/100\n",
            "2/2 [==============================] - 0s 32ms/step - loss: 128.5011 - categorical_accuracy: 0.3982 - val_loss: 117.0203 - val_categorical_accuracy: 0.4138\n",
            "Epoch 5/100\n",
            "2/2 [==============================] - 0s 34ms/step - loss: 110.1824 - categorical_accuracy: 0.3982 - val_loss: 99.0134 - val_categorical_accuracy: 0.4138\n",
            "Epoch 6/100\n",
            "2/2 [==============================] - 0s 39ms/step - loss: 92.9699 - categorical_accuracy: 0.3982 - val_loss: 81.7837 - val_categorical_accuracy: 0.4138\n",
            "Epoch 7/100\n",
            "2/2 [==============================] - 0s 53ms/step - loss: 75.9095 - categorical_accuracy: 0.3982 - val_loss: 64.9183 - val_categorical_accuracy: 0.4138\n",
            "Epoch 8/100\n",
            "2/2 [==============================] - 0s 50ms/step - loss: 59.4508 - categorical_accuracy: 0.3982 - val_loss: 48.1405 - val_categorical_accuracy: 0.4138\n",
            "Epoch 9/100\n",
            "2/2 [==============================] - 0s 33ms/step - loss: 43.2000 - categorical_accuracy: 0.3982 - val_loss: 31.4116 - val_categorical_accuracy: 0.3793\n",
            "Epoch 10/100\n",
            "2/2 [==============================] - 0s 33ms/step - loss: 26.7603 - categorical_accuracy: 0.2832 - val_loss: 17.2892 - val_categorical_accuracy: 0.1379\n",
            "Epoch 11/100\n",
            "2/2 [==============================] - 0s 34ms/step - loss: 15.9131 - categorical_accuracy: 0.1593 - val_loss: 16.1780 - val_categorical_accuracy: 0.3103\n",
            "Epoch 12/100\n",
            "2/2 [==============================] - 0s 35ms/step - loss: 15.8190 - categorical_accuracy: 0.3186 - val_loss: 15.7811 - val_categorical_accuracy: 0.3103\n",
            "Epoch 13/100\n",
            "2/2 [==============================] - 0s 37ms/step - loss: 15.1834 - categorical_accuracy: 0.3186 - val_loss: 13.6626 - val_categorical_accuracy: 0.3103\n",
            "Epoch 14/100\n",
            "2/2 [==============================] - 0s 35ms/step - loss: 12.9030 - categorical_accuracy: 0.3274 - val_loss: 12.6987 - val_categorical_accuracy: 0.4828\n",
            "Epoch 15/100\n",
            "2/2 [==============================] - 0s 35ms/step - loss: 14.5858 - categorical_accuracy: 0.4336 - val_loss: 17.9511 - val_categorical_accuracy: 0.2759\n",
            "Epoch 16/100\n",
            "2/2 [==============================] - 0s 33ms/step - loss: 18.1401 - categorical_accuracy: 0.2832 - val_loss: 15.4752 - val_categorical_accuracy: 0.2759\n",
            "Epoch 17/100\n",
            "2/2 [==============================] - 0s 32ms/step - loss: 14.7666 - categorical_accuracy: 0.3717 - val_loss: 12.8689 - val_categorical_accuracy: 0.4483\n",
            "Epoch 18/100\n",
            "2/2 [==============================] - 0s 35ms/step - loss: 12.8967 - categorical_accuracy: 0.3717 - val_loss: 13.2604 - val_categorical_accuracy: 0.3448\n",
            "Epoch 19/100\n",
            "2/2 [==============================] - 0s 34ms/step - loss: 13.0628 - categorical_accuracy: 0.3274 - val_loss: 12.9780 - val_categorical_accuracy: 0.3103\n",
            "Epoch 20/100\n",
            "2/2 [==============================] - 0s 35ms/step - loss: 12.4314 - categorical_accuracy: 0.3274 - val_loss: 11.6259 - val_categorical_accuracy: 0.3103\n",
            "Epoch 21/100\n",
            "2/2 [==============================] - 0s 41ms/step - loss: 10.9309 - categorical_accuracy: 0.3274 - val_loss: 9.2727 - val_categorical_accuracy: 0.3448\n",
            "Epoch 22/100\n",
            "2/2 [==============================] - 0s 32ms/step - loss: 8.5488 - categorical_accuracy: 0.3274 - val_loss: 6.2907 - val_categorical_accuracy: 0.3793\n",
            "Epoch 23/100\n",
            "2/2 [==============================] - 0s 32ms/step - loss: 5.5621 - categorical_accuracy: 0.3363 - val_loss: 3.1960 - val_categorical_accuracy: 0.3793\n",
            "Epoch 24/100\n",
            "2/2 [==============================] - 0s 31ms/step - loss: 3.1687 - categorical_accuracy: 0.3805 - val_loss: 2.8236 - val_categorical_accuracy: 0.2414\n",
            "Epoch 25/100\n",
            "2/2 [==============================] - 0s 31ms/step - loss: 3.2239 - categorical_accuracy: 0.3009 - val_loss: 4.6362 - val_categorical_accuracy: 0.3103\n",
            "Epoch 26/100\n",
            "2/2 [==============================] - 0s 50ms/step - loss: 5.0895 - categorical_accuracy: 0.2212 - val_loss: 5.2103 - val_categorical_accuracy: 0.3793\n",
            "Epoch 27/100\n",
            "2/2 [==============================] - 0s 34ms/step - loss: 4.7218 - categorical_accuracy: 0.3097 - val_loss: 2.6833 - val_categorical_accuracy: 0.3103\n",
            "Epoch 28/100\n",
            "2/2 [==============================] - 0s 34ms/step - loss: 2.2803 - categorical_accuracy: 0.2478 - val_loss: 1.4978 - val_categorical_accuracy: 0.4483\n",
            "Epoch 29/100\n",
            "2/2 [==============================] - 0s 36ms/step - loss: 1.7496 - categorical_accuracy: 0.5044 - val_loss: 2.1083 - val_categorical_accuracy: 0.4138\n",
            "Epoch 30/100\n",
            "2/2 [==============================] - 0s 32ms/step - loss: 1.9626 - categorical_accuracy: 0.4336 - val_loss: 2.3075 - val_categorical_accuracy: 0.4483\n",
            "Epoch 31/100\n",
            "2/2 [==============================] - 0s 50ms/step - loss: 1.9928 - categorical_accuracy: 0.3894 - val_loss: 2.1840 - val_categorical_accuracy: 0.4483\n",
            "Epoch 32/100\n",
            "2/2 [==============================] - 0s 33ms/step - loss: 1.7238 - categorical_accuracy: 0.5044 - val_loss: 1.7826 - val_categorical_accuracy: 0.5862\n",
            "Epoch 33/100\n",
            "2/2 [==============================] - 0s 34ms/step - loss: 1.3856 - categorical_accuracy: 0.5398 - val_loss: 1.2961 - val_categorical_accuracy: 0.5517\n",
            "Epoch 34/100\n",
            "2/2 [==============================] - 0s 32ms/step - loss: 1.0345 - categorical_accuracy: 0.5044 - val_loss: 1.0292 - val_categorical_accuracy: 0.5517\n",
            "Epoch 35/100\n",
            "2/2 [==============================] - 0s 32ms/step - loss: 1.0593 - categorical_accuracy: 0.4513 - val_loss: 1.0334 - val_categorical_accuracy: 0.5862\n",
            "Epoch 36/100\n",
            "2/2 [==============================] - 0s 33ms/step - loss: 1.1670 - categorical_accuracy: 0.4602 - val_loss: 1.0822 - val_categorical_accuracy: 0.5862\n",
            "Epoch 37/100\n",
            "2/2 [==============================] - 0s 31ms/step - loss: 1.1802 - categorical_accuracy: 0.5398 - val_loss: 1.2125 - val_categorical_accuracy: 0.6207\n",
            "Epoch 38/100\n",
            "2/2 [==============================] - 0s 31ms/step - loss: 1.1601 - categorical_accuracy: 0.5841 - val_loss: 1.0113 - val_categorical_accuracy: 0.6207\n",
            "Epoch 39/100\n",
            "2/2 [==============================] - 0s 31ms/step - loss: 1.0032 - categorical_accuracy: 0.4602 - val_loss: 0.9996 - val_categorical_accuracy: 0.5862\n",
            "Epoch 40/100\n",
            "2/2 [==============================] - 0s 35ms/step - loss: 0.9876 - categorical_accuracy: 0.4956 - val_loss: 1.0487 - val_categorical_accuracy: 0.6207\n",
            "Epoch 41/100\n",
            "2/2 [==============================] - 0s 33ms/step - loss: 0.9271 - categorical_accuracy: 0.5398 - val_loss: 1.2197 - val_categorical_accuracy: 0.5862\n",
            "Epoch 42/100\n",
            "2/2 [==============================] - 0s 32ms/step - loss: 1.0211 - categorical_accuracy: 0.5664 - val_loss: 1.2532 - val_categorical_accuracy: 0.5862\n",
            "Epoch 43/100\n",
            "2/2 [==============================] - 0s 56ms/step - loss: 1.0205 - categorical_accuracy: 0.5398 - val_loss: 1.1390 - val_categorical_accuracy: 0.6552\n",
            "Epoch 44/100\n",
            "2/2 [==============================] - 0s 49ms/step - loss: 0.9415 - categorical_accuracy: 0.5221 - val_loss: 1.0820 - val_categorical_accuracy: 0.6207\n",
            "Epoch 45/100\n",
            "2/2 [==============================] - 0s 35ms/step - loss: 0.9098 - categorical_accuracy: 0.5841 - val_loss: 1.0275 - val_categorical_accuracy: 0.6207\n",
            "Epoch 46/100\n",
            "2/2 [==============================] - 0s 32ms/step - loss: 0.8820 - categorical_accuracy: 0.5752 - val_loss: 1.0517 - val_categorical_accuracy: 0.5862\n",
            "Epoch 47/100\n",
            "2/2 [==============================] - 0s 35ms/step - loss: 0.8848 - categorical_accuracy: 0.6018 - val_loss: 0.9699 - val_categorical_accuracy: 0.5862\n",
            "Epoch 48/100\n",
            "2/2 [==============================] - 0s 51ms/step - loss: 0.8840 - categorical_accuracy: 0.5752 - val_loss: 0.9331 - val_categorical_accuracy: 0.6552\n",
            "Epoch 49/100\n",
            "2/2 [==============================] - 0s 51ms/step - loss: 0.8738 - categorical_accuracy: 0.6018 - val_loss: 0.9516 - val_categorical_accuracy: 0.5862\n",
            "Epoch 50/100\n",
            "2/2 [==============================] - 0s 33ms/step - loss: 0.8592 - categorical_accuracy: 0.6018 - val_loss: 0.9943 - val_categorical_accuracy: 0.6207\n",
            "Epoch 51/100\n",
            "2/2 [==============================] - 0s 33ms/step - loss: 0.8298 - categorical_accuracy: 0.6018 - val_loss: 0.9660 - val_categorical_accuracy: 0.6207\n",
            "Epoch 52/100\n",
            "2/2 [==============================] - 0s 33ms/step - loss: 0.8483 - categorical_accuracy: 0.6106 - val_loss: 0.9776 - val_categorical_accuracy: 0.6207\n",
            "Epoch 53/100\n",
            "2/2 [==============================] - 0s 32ms/step - loss: 0.8305 - categorical_accuracy: 0.6106 - val_loss: 1.0194 - val_categorical_accuracy: 0.6207\n",
            "Epoch 54/100\n",
            "2/2 [==============================] - 0s 34ms/step - loss: 0.8251 - categorical_accuracy: 0.6195 - val_loss: 1.0395 - val_categorical_accuracy: 0.6207\n",
            "Epoch 55/100\n",
            "2/2 [==============================] - 0s 33ms/step - loss: 0.8129 - categorical_accuracy: 0.6106 - val_loss: 0.9674 - val_categorical_accuracy: 0.5517\n",
            "Epoch 56/100\n",
            "2/2 [==============================] - 0s 34ms/step - loss: 0.8092 - categorical_accuracy: 0.6283 - val_loss: 0.9266 - val_categorical_accuracy: 0.6207\n",
            "Epoch 57/100\n",
            "2/2 [==============================] - 0s 35ms/step - loss: 0.7826 - categorical_accuracy: 0.6460 - val_loss: 0.9349 - val_categorical_accuracy: 0.6207\n",
            "Epoch 58/100\n",
            "2/2 [==============================] - 0s 33ms/step - loss: 0.7829 - categorical_accuracy: 0.6372 - val_loss: 0.9441 - val_categorical_accuracy: 0.6207\n",
            "Epoch 59/100\n",
            "2/2 [==============================] - 0s 48ms/step - loss: 0.7951 - categorical_accuracy: 0.6195 - val_loss: 0.8926 - val_categorical_accuracy: 0.6552\n",
            "Epoch 60/100\n",
            "2/2 [==============================] - 0s 33ms/step - loss: 0.7623 - categorical_accuracy: 0.6637 - val_loss: 0.8944 - val_categorical_accuracy: 0.6552\n",
            "Epoch 61/100\n",
            "2/2 [==============================] - 0s 36ms/step - loss: 0.7553 - categorical_accuracy: 0.6549 - val_loss: 0.9078 - val_categorical_accuracy: 0.6207\n",
            "Epoch 62/100\n",
            "2/2 [==============================] - 0s 33ms/step - loss: 0.7492 - categorical_accuracy: 0.6549 - val_loss: 0.9088 - val_categorical_accuracy: 0.6552\n",
            "Epoch 63/100\n",
            "2/2 [==============================] - 0s 32ms/step - loss: 0.7367 - categorical_accuracy: 0.6814 - val_loss: 0.8970 - val_categorical_accuracy: 0.6552\n",
            "Epoch 64/100\n",
            "2/2 [==============================] - 0s 37ms/step - loss: 0.7383 - categorical_accuracy: 0.6814 - val_loss: 0.8930 - val_categorical_accuracy: 0.6552\n",
            "Epoch 65/100\n",
            "2/2 [==============================] - 0s 35ms/step - loss: 0.7247 - categorical_accuracy: 0.6814 - val_loss: 0.9046 - val_categorical_accuracy: 0.6207\n",
            "Epoch 66/100\n",
            "2/2 [==============================] - 0s 33ms/step - loss: 0.7289 - categorical_accuracy: 0.6283 - val_loss: 0.8998 - val_categorical_accuracy: 0.6207\n",
            "Epoch 67/100\n",
            "2/2 [==============================] - 0s 50ms/step - loss: 0.7141 - categorical_accuracy: 0.6814 - val_loss: 0.8546 - val_categorical_accuracy: 0.6552\n",
            "Epoch 68/100\n",
            "2/2 [==============================] - 0s 34ms/step - loss: 0.7378 - categorical_accuracy: 0.6814 - val_loss: 0.8486 - val_categorical_accuracy: 0.6552\n",
            "Epoch 69/100\n",
            "2/2 [==============================] - 0s 50ms/step - loss: 0.7015 - categorical_accuracy: 0.6903 - val_loss: 0.8975 - val_categorical_accuracy: 0.6207\n",
            "Epoch 70/100\n",
            "2/2 [==============================] - 0s 34ms/step - loss: 0.7365 - categorical_accuracy: 0.6549 - val_loss: 0.8849 - val_categorical_accuracy: 0.6207\n",
            "Epoch 71/100\n",
            "2/2 [==============================] - 0s 36ms/step - loss: 0.6883 - categorical_accuracy: 0.6991 - val_loss: 0.8529 - val_categorical_accuracy: 0.7241\n",
            "Epoch 72/100\n",
            "2/2 [==============================] - 0s 33ms/step - loss: 0.7326 - categorical_accuracy: 0.7345 - val_loss: 0.8415 - val_categorical_accuracy: 0.7241\n",
            "Epoch 73/100\n",
            "2/2 [==============================] - 0s 32ms/step - loss: 0.6757 - categorical_accuracy: 0.7168 - val_loss: 0.9110 - val_categorical_accuracy: 0.6552\n",
            "Epoch 74/100\n",
            "2/2 [==============================] - 0s 52ms/step - loss: 0.7122 - categorical_accuracy: 0.6549 - val_loss: 0.8724 - val_categorical_accuracy: 0.6552\n",
            "Epoch 75/100\n",
            "2/2 [==============================] - 0s 35ms/step - loss: 0.6810 - categorical_accuracy: 0.6726 - val_loss: 0.8236 - val_categorical_accuracy: 0.7586\n",
            "Epoch 76/100\n",
            "2/2 [==============================] - 0s 31ms/step - loss: 0.6812 - categorical_accuracy: 0.7522 - val_loss: 0.8126 - val_categorical_accuracy: 0.6552\n",
            "Epoch 77/100\n",
            "2/2 [==============================] - 0s 31ms/step - loss: 0.6689 - categorical_accuracy: 0.7080 - val_loss: 0.8314 - val_categorical_accuracy: 0.6552\n",
            "Epoch 78/100\n",
            "2/2 [==============================] - 0s 32ms/step - loss: 0.6536 - categorical_accuracy: 0.7080 - val_loss: 0.7989 - val_categorical_accuracy: 0.6552\n",
            "Epoch 79/100\n",
            "2/2 [==============================] - 0s 31ms/step - loss: 0.6470 - categorical_accuracy: 0.7257 - val_loss: 0.7988 - val_categorical_accuracy: 0.6897\n",
            "Epoch 80/100\n",
            "2/2 [==============================] - 0s 31ms/step - loss: 0.6531 - categorical_accuracy: 0.7522 - val_loss: 0.8078 - val_categorical_accuracy: 0.6552\n",
            "Epoch 81/100\n",
            "2/2 [==============================] - 0s 32ms/step - loss: 0.6406 - categorical_accuracy: 0.7168 - val_loss: 0.8396 - val_categorical_accuracy: 0.6552\n",
            "Epoch 82/100\n",
            "2/2 [==============================] - 0s 32ms/step - loss: 0.6400 - categorical_accuracy: 0.7168 - val_loss: 0.7827 - val_categorical_accuracy: 0.7586\n",
            "Epoch 83/100\n",
            "2/2 [==============================] - 0s 33ms/step - loss: 0.6263 - categorical_accuracy: 0.7611 - val_loss: 0.7759 - val_categorical_accuracy: 0.7586\n",
            "Epoch 84/100\n",
            "2/2 [==============================] - 0s 32ms/step - loss: 0.6545 - categorical_accuracy: 0.7611 - val_loss: 0.7831 - val_categorical_accuracy: 0.6552\n",
            "Epoch 85/100\n",
            "2/2 [==============================] - 0s 32ms/step - loss: 0.6119 - categorical_accuracy: 0.7434 - val_loss: 0.7785 - val_categorical_accuracy: 0.6552\n",
            "Epoch 86/100\n",
            "2/2 [==============================] - 0s 32ms/step - loss: 0.6058 - categorical_accuracy: 0.7434 - val_loss: 0.7647 - val_categorical_accuracy: 0.6897\n",
            "Epoch 87/100\n",
            "2/2 [==============================] - 0s 40ms/step - loss: 0.6037 - categorical_accuracy: 0.7522 - val_loss: 0.7537 - val_categorical_accuracy: 0.7241\n",
            "Epoch 88/100\n",
            "2/2 [==============================] - 0s 32ms/step - loss: 0.5947 - categorical_accuracy: 0.7611 - val_loss: 0.7546 - val_categorical_accuracy: 0.6552\n",
            "Epoch 89/100\n",
            "2/2 [==============================] - 0s 36ms/step - loss: 0.5932 - categorical_accuracy: 0.7788 - val_loss: 0.7403 - val_categorical_accuracy: 0.7241\n",
            "Epoch 90/100\n",
            "2/2 [==============================] - 0s 33ms/step - loss: 0.5924 - categorical_accuracy: 0.7788 - val_loss: 0.7292 - val_categorical_accuracy: 0.7241\n",
            "Epoch 91/100\n",
            "2/2 [==============================] - 0s 52ms/step - loss: 0.6020 - categorical_accuracy: 0.7788 - val_loss: 0.7416 - val_categorical_accuracy: 0.6897\n",
            "Epoch 92/100\n",
            "2/2 [==============================] - 0s 36ms/step - loss: 0.5801 - categorical_accuracy: 0.7788 - val_loss: 0.7195 - val_categorical_accuracy: 0.7586\n",
            "Epoch 93/100\n",
            "2/2 [==============================] - 0s 31ms/step - loss: 0.5685 - categorical_accuracy: 0.7699 - val_loss: 0.7267 - val_categorical_accuracy: 0.7241\n",
            "Epoch 94/100\n",
            "2/2 [==============================] - 0s 33ms/step - loss: 0.5616 - categorical_accuracy: 0.7788 - val_loss: 0.7187 - val_categorical_accuracy: 0.7241\n",
            "Epoch 95/100\n",
            "2/2 [==============================] - 0s 32ms/step - loss: 0.5625 - categorical_accuracy: 0.7876 - val_loss: 0.6986 - val_categorical_accuracy: 0.7586\n",
            "Epoch 96/100\n",
            "2/2 [==============================] - 0s 32ms/step - loss: 0.5557 - categorical_accuracy: 0.7965 - val_loss: 0.7049 - val_categorical_accuracy: 0.7241\n",
            "Epoch 97/100\n",
            "2/2 [==============================] - 0s 31ms/step - loss: 0.5444 - categorical_accuracy: 0.7876 - val_loss: 0.6879 - val_categorical_accuracy: 0.7586\n",
            "Epoch 98/100\n",
            "2/2 [==============================] - 0s 35ms/step - loss: 0.5372 - categorical_accuracy: 0.8053 - val_loss: 0.6785 - val_categorical_accuracy: 0.7586\n",
            "Epoch 99/100\n",
            "2/2 [==============================] - 0s 37ms/step - loss: 0.5316 - categorical_accuracy: 0.8053 - val_loss: 0.6714 - val_categorical_accuracy: 0.7241\n",
            "Epoch 100/100\n",
            "2/2 [==============================] - 0s 31ms/step - loss: 0.5424 - categorical_accuracy: 0.7876 - val_loss: 0.6642 - val_categorical_accuracy: 0.7241\n"
          ]
        },
        {
          "output_type": "execute_result",
          "data": {
            "text/plain": [
              "<keras.src.callbacks.History at 0x7edc6dee4040>"
            ]
          },
          "metadata": {},
          "execution_count": 41
        }
      ]
    },
    {
      "cell_type": "code",
      "source": [],
      "metadata": {
        "id": "gOsSz9SwVDWo"
      },
      "execution_count": null,
      "outputs": []
    }
  ]
}